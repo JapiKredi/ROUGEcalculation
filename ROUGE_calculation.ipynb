{
  "nbformat": 4,
  "nbformat_minor": 0,
  "metadata": {
    "colab": {
      "provenance": [],
      "authorship_tag": "ABX9TyP5tup/7j+N5vV79cAAziij",
      "include_colab_link": true
    },
    "kernelspec": {
      "name": "python3",
      "display_name": "Python 3"
    },
    "language_info": {
      "name": "python"
    }
  },
  "cells": [
    {
      "cell_type": "markdown",
      "metadata": {
        "id": "view-in-github",
        "colab_type": "text"
      },
      "source": [
        "<a href=\"https://colab.research.google.com/github/JapiKredi/ROUGEcalculation/blob/main/ROUGE_calculation.ipynb\" target=\"_parent\"><img src=\"https://colab.research.google.com/assets/colab-badge.svg\" alt=\"Open In Colab\"/></a>"
      ]
    },
    {
      "cell_type": "code",
      "execution_count": 1,
      "metadata": {
        "id": "t3TrmW5njshD"
      },
      "outputs": [],
      "source": [
        "from collections import Counter\n",
        "import re"
      ]
    },
    {
      "cell_type": "code",
      "source": [
        "# Example usage\n",
        "generated_summary = \"The dog slept on the couch.\"\n",
        "reference_summary = \"The cat sat on the mat.\"\n",
        "n = 2  # bigram"
      ],
      "metadata": {
        "id": "9SggSLoyjwvY"
      },
      "execution_count": 2,
      "outputs": []
    },
    {
      "cell_type": "code",
      "source": [
        "def generate_ngrams(text, n):\n",
        "    # Preprocess text by removing punctuation and converting to lowercase\n",
        "    text = re.sub(r'[^\\w\\s]', '', text.lower())\n",
        "\n",
        "    # Generate n-grams from the preprocessed text\n",
        "    words = text.split()\n",
        "    ngrams = [tuple(words[i:i+n]) for i in range(len(words) - n + 1)]\n",
        "\n",
        "    return ngrams"
      ],
      "metadata": {
        "id": "VWOnsk_hjxQZ"
      },
      "execution_count": 3,
      "outputs": []
    },
    {
      "cell_type": "code",
      "source": [
        "def calculate_ROUGE(generated_summary, reference_summary, n):\n",
        "    # Tokenize the generated summary and reference summary into n-grams\n",
        "    generated_ngrams = generate_ngrams(generated_summary, n)\n",
        "    reference_ngrams = generate_ngrams(reference_summary, n)\n",
        "\n",
        "    # Calculate the recall score\n",
        "    matching_ngrams = len(set(generated_ngrams) & set(reference_ngrams))\n",
        "    recall_score = matching_ngrams / len(reference_ngrams)\n",
        "\n",
        "    return recall_score"
      ],
      "metadata": {
        "id": "XMxyZSk2jxI-"
      },
      "execution_count": 4,
      "outputs": []
    },
    {
      "cell_type": "code",
      "source": [
        "rouge_score = calculate_ROUGE(generated_summary, reference_summary, n)\n",
        "print(f\"ROUGE-{n} score: {rouge_score}\")"
      ],
      "metadata": {
        "colab": {
          "base_uri": "https://localhost:8080/"
        },
        "id": "fwwogSmzjxTr",
        "outputId": "93e5bdc0-eca9-4053-bf87-f6590835e50d"
      },
      "execution_count": 6,
      "outputs": [
        {
          "output_type": "stream",
          "name": "stdout",
          "text": [
            "ROUGE-2 score: 0.2\n"
          ]
        }
      ]
    },
    {
      "cell_type": "code",
      "source": [],
      "metadata": {
        "id": "uLKEizdxj-vq"
      },
      "execution_count": null,
      "outputs": []
    }
  ]
}